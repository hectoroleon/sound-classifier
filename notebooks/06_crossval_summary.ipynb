{
 "cells": [
  {
   "cell_type": "markdown",
   "metadata": {},
   "source": [
    "## 📊 5-Fold Cross-Validation – ConvNeXt-Tiny on ESC-50\n",
    "\n",
    "To validate the generalization of my ConvNeXt-Tiny model, I ran 5-fold cross-validation using the official ESC-50 folds. For each run, I trained on 4 folds and validated on the remaining one, repeating this process across all 5 folds. Due to training time, each fold was trained for **5 epochs**.\n",
    "\n",
    "### ✅ Results\n",
    "\n",
    "| Fold | Validation Accuracy |\n",
    "|------|----------------------|\n",
    "| 1    | 80.50%               |\n",
    "| 2    | 82.50%               |\n",
    "| 3    | 83.75%               |\n",
    "| 4    | 87.25%               |\n",
    "| 5    | 79.75%               |\n",
    "\n",
    "**🧠 Average Val Accuracy: 82.75%**\n",
    "\n",
    "---\n",
    "\n",
    "### 🔍 Insights\n",
    "\n",
    "- ConvNeXt-Tiny consistently achieved **79%+ accuracy** on all folds, with very little variance — a strong sign of generalization.\n",
    "- Fold 4 yielded the best result (87.25%), possibly due to more learnable samples or slightly easier class distribution in the validation set.\n",
    "- Even with limited training (5 epochs), the model surpassed the performance of both the custom CNN and ResNet18 in every fold.\n",
    "- This cross-validation provides strong evidence that the model's success isn't tied to a particular subset of the data.\n",
    "\n",
    "---\n",
    "\n"
   ]
  },
  {
   "cell_type": "markdown",
   "metadata": {},
   "source": [
    "## 📋 Model Comparison – ESC-50 Sound Classification\n",
    "\n",
    "| Model             | Val Accuracy | Val Loss | Epochs | Parameters (approx) | Notes                                             |\n",
    "|------------------|--------------|----------|--------|----------------------|---------------------------------------------------|\n",
    "| 🎯 **Custom CNN** | 48.0%        | 1.97     | 20     | ~0.5M                | Baseline; learned basic patterns but limited      |\n",
    "| 🔷 ResNet18       | 75.0%        | 0.88     | 8      | ~11M                 | Strong improvement via transfer learning          |\n",
    "| 🟢 ConvNeXt-Tiny  | **84.5%**    | 0.52     | 7      | ~28M                 | Best performer; modern CNN with rich features     |\n",
    "\n",
    "### 🧠 Key Insights\n",
    "\n",
    "- **Custom CNN** provided a good learning foundation, but struggled with subtle sound classes due to limited capacity.\n",
    "- **ResNet18** gave a big boost via pretrained feature extraction — solid accuracy, widely used.\n",
    "- **ConvNeXt-Tiny** outperformed both, showing excellent generalization and cleaner confusion matrices. Its architecture captures both local and global structure in spectrograms very effectively.\n",
    "\n",
    "---\n",
    "\n",
    "This comparison clearly shows the value of modern architectures like ConvNeXt in sound classification tasks using visual inputs (mel-spectrograms).\n"
   ]
  }
 ],
 "metadata": {
  "language_info": {
   "name": "python"
  }
 },
 "nbformat": 4,
 "nbformat_minor": 2
}
