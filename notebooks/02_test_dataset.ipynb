{
 "cells": [
  {
   "cell_type": "code",
   "execution_count": 1,
   "metadata": {},
   "outputs": [
    {
     "name": "stdout",
     "output_type": "stream",
     "text": [
      "Number of samples: 400\n"
     ]
    }
   ],
   "source": [
    "import sys\n",
    "import os\n",
    "sys.path.append(os.path.abspath(os.path.join(os.getcwd(), '..')))\n",
    "import torch\n",
    "from torch.utils.data import DataLoader\n",
    "from src.dataset import ESC50Dataset\n",
    "\n",
    "# Define dataset\n",
    "dataset = ESC50Dataset(\n",
    "    csv_path='../data/ESC-50-master/meta/esc50.csv',\n",
    "    audio_dir='../data/ESC-50-master/audio',\n",
    "    folds=[1]  # Validation/test fold\n",
    ")\n",
    "\n",
    "# Check length\n",
    "print(\"Number of samples:\", len(dataset))\n"
   ]
  },
  {
   "cell_type": "code",
   "execution_count": 2,
   "metadata": {},
   "outputs": [
    {
     "name": "stdout",
     "output_type": "stream",
     "text": [
      "Output shape: torch.Size([1, 50])\n"
     ]
    }
   ],
   "source": [
    "from src.model import AudioCNN\n",
    "import torch\n",
    "\n",
    "# Instantiate model\n",
    "model = AudioCNN(num_classes=50)\n",
    "\n",
    "# Check input/output shape\n",
    "sample_input = torch.randn(1, 1, 128, 216)  # [batch_size, channels, mel, time]\n",
    "output = model(sample_input)\n",
    "\n",
    "print(\"Output shape:\", output.shape)\n"
   ]
  }
 ],
 "metadata": {
  "kernelspec": {
   "display_name": "esc50-env",
   "language": "python",
   "name": "python3"
  },
  "language_info": {
   "codemirror_mode": {
    "name": "ipython",
    "version": 3
   },
   "file_extension": ".py",
   "mimetype": "text/x-python",
   "name": "python",
   "nbconvert_exporter": "python",
   "pygments_lexer": "ipython3",
   "version": "3.10.16"
  }
 },
 "nbformat": 4,
 "nbformat_minor": 2
}
